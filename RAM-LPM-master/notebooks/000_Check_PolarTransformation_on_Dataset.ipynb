{
 "cells": [
  {
   "cell_type": "code",
   "execution_count": 5,
   "metadata": {},
   "outputs": [],
   "source": [
    "%matplotlib inline\n",
    "import tonbo\n",
    "from tonbo.data import RotatePrepocessDataset\n",
    "import torch\n",
    "import matplotlib.pyplot as plt\n",
    "from torchvision import datasets, transforms"
   ]
  },
  {
   "cell_type": "code",
   "execution_count": 6,
   "metadata": {},
   "outputs": [],
   "source": [
    "def tensor2img(ax, data):\n",
    "    x = data.data.numpy()[0, 0, :, :]\n",
    "    ax.imshow(x)\n"
   ]
  },
  {
   "cell_type": "code",
   "execution_count": 7,
   "metadata": {},
   "outputs": [
    {
     "data": {
      "image/png": "[encoded data removed]",
      "text/plain": [
       "<Figure size 432x288 with 2 Axes>"
      ]
     },
     "metadata": {
      "needs_background": "light"
     },
     "output_type": "display_data"
    }
   ],
   "source": [
    "train_dataset = datasets.MNIST(\"~/.mnist\", train=True, download=True,\n",
    "                               transform=transforms.Compose([\n",
    "                                   transforms.ToTensor(),\n",
    "                                   transforms.Normalize((0.1307,), (0.3081,))\n",
    "                               ]))\n",
    "fig = plt.figure()\n",
    "ax = fig.add_subplot(121)\n",
    "ax2 = fig.add_subplot(122)\n",
    "\n",
    "polor_dataset =  RotatePrepocessDataset(train_dataset, polor_cordinate=True)\n",
    "normal_dataset =  RotatePrepocessDataset(train_dataset, polor_cordinate=False)\n",
    "\n",
    "polor_iterator = torch.utils.data.DataLoader(\n",
    "    polor_dataset, batch_size=1, shuffle=False)\n",
    "normal_iterator = torch.utils.data.DataLoader(\n",
    "    normal_dataset, batch_size=1, shuffle=False)\n",
    "\n",
    "for (pdata, py), (data, y) in zip(polor_iterator, normal_iterator):\n",
    "    tensor2img(ax, pdata)\n",
    "    tensor2img(ax2, data)\n",
    "\n",
    "    plt.show()\n",
    "    break"
   ]
  }
 ],
 "metadata": {
  "kernelspec": {
   "display_name": "Python 3",
   "language": "python",
   "name": "python3"
  },
  "language_info": {
   "codemirror_mode": {
    "name": "ipython",
    "version": 3
   },
   "file_extension": ".py",
   "mimetype": "text/x-python",
   "name": "python",
   "nbconvert_exporter": "python",
   "pygments_lexer": "ipython3",
   "version": "3.6.5"
  }
 },
 "nbformat": 4,
 "nbformat_minor": 2
}
